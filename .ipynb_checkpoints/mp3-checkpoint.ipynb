{
 "cells": [
  {
   "cell_type": "code",
   "execution_count": 26,
   "metadata": {},
   "outputs": [
    {
     "name": "stdout",
     "output_type": "stream",
     "text": [
      "비틀즈_Yesterday.mp3\n",
      "09 NEVER EVER ''tears of aquarius mix''.mp3\n",
      "001. 백지영 - 총 맞은 것처럼.mp3\n",
      "01 유리잔.mp3\n",
      "10 TO BE -Inst.melo version-.mp3\n",
      "고은 - 사랑했었나봐요.mp3\n",
      "sg wannabe - 비익조.mp3\n",
      "7. Ride feat. L.Wan.mp3\n",
      "019,이승기 - 처음처럼 그때처럼 (Feat. 강민경 From Davichi).mp3\n",
      "B2ST - Shock.mp3\n"
     ]
    }
   ],
   "source": [
    "import os\n",
    "import random\n",
    "folder = 'E:/t1/Music'\n",
    "musiclist=[]\n",
    "for (path, dir, files) in os.walk(folder):\n",
    "    for filename in files:\n",
    "        ext = os.path.splitext(filename)[-1]\n",
    "        if ext == '.mp3':\n",
    "            musiclist.append([path,filename])\n",
    "        if ext == '.flac':\n",
    "            musiclist.append([path,filename])\n",
    "        if ext == '.wma':\n",
    "            musiclist.append([path,filename])\n",
    "randomList = random.sample(musiclist, 10)\n",
    "for (i,j) in randomList:\n",
    "    print(j)\n",
    "f=open(\"newplaylist.pls\",'w')\n",
    "f.write(\"[playlist]\\n\")\n",
    "f.write(\"numberofentries=\")\n",
    "f.write(str(len(randomList)))\n",
    "f.write(\"\\n\")\n",
    "for n,(i,j) in enumerate(randomList):\n",
    "    f.write(\"File\")\n",
    "    f.write(str(n+1))\n",
    "    f.write(\"=\")\n",
    "    f.write(str(i))\n",
    "    f.write(\"/\")\n",
    "    f.write(str(j))\n",
    "    f.write(\"\\n\")\n",
    "f.close()    "
   ]
  }
 ],
 "metadata": {
  "kernelspec": {
   "display_name": "Python 3",
   "language": "python",
   "name": "python3"
  },
  "language_info": {
   "codemirror_mode": {
    "name": "ipython",
    "version": 3
   },
   "file_extension": ".py",
   "mimetype": "text/x-python",
   "name": "python",
   "nbconvert_exporter": "python",
   "pygments_lexer": "ipython3",
   "version": "3.7.6"
  }
 },
 "nbformat": 4,
 "nbformat_minor": 4
}
