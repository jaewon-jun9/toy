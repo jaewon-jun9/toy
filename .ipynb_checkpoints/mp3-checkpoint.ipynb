{
 "cells": [
  {
   "cell_type": "code",
   "execution_count": 23,
   "metadata": {},
   "outputs": [
    {
     "name": "stdout",
     "output_type": "stream",
     "text": [
      "신비_To My Friend_320.mp3\n",
      "슬랜더케이(Slender.K) - Come Back 2 Me (feat. 각운).mp3\n",
      "17_Day_15.mp3\n",
      "산이(San E) Ep Album - 03 Love Sick.mp3\n",
      "06 End roll.mp3\n",
      "휘성2집 - 13.미인.mp3\n",
      "09 NEVER EVER ''tears of aquarius mix''.mp3\n",
      "이선희 - 09 누나야.mp3\n",
      "이선희 - 09 나의거리.mp3\n",
      "06 - Plaisir_D'amour.Mp3.mp3\n"
     ]
    }
   ],
   "source": [
    "import os\n",
    "import random\n",
    "import eyed3\n",
    "folder = 'E:/t1/Music'\n",
    "musiclist=[]\n",
    "for (path, dir, files) in os.walk(folder):\n",
    "    for filename in files:\n",
    "        ext = os.path.splitext(filename)[-1]\n",
    "        if ext == '.mp3':\n",
    "            musiclist.append([path,filename])\n",
    "        if ext == '.flac':\n",
    "            musiclist.append([path,filename])\n",
    "        if ext == '.wma':\n",
    "            musiclist.append([path,filename])\n",
    "randomList = random.sample(musiclist, 10)\n",
    "for (i,j) in randomList:\n",
    "    print(j)\n",
    "f=open(\"newplaylist.pls\",'w')\n",
    "f.write(\"[playlist]\\nnumberofentries=%d\\n\"%(len(randomList)))\n",
    "for n,(i,j) in enumerate(randomList):\n",
    "    f.write(\"File%d=%s/%s\\n\"%(n+1,i,j))\n",
    "f.close()    "
   ]
  },
  {
   "cell_type": "code",
   "execution_count": 26,
   "metadata": {},
   "outputs": [
    {
     "name": "stderr",
     "output_type": "stream",
     "text": [
      "Lame tag CRC check failed\n",
      "Invalid APIC picture type: 103\n",
      "Lame tag CRC check failed\n",
      "Lame tag CRC check failed\n"
     ]
    },
    {
     "name": "stdout",
     "output_type": "stream",
     "text": [
      "½Åºñ\n",
      "15 To 30\n",
      "To My Friend\n",
      "<eyed3.id3.frames.LyricsFrame object at 0x000001E498382F28>\n",
      "슬랜더케이(Slender.K)\n",
      "Slender.K\n",
      "Come Back 2 Me (feat. 각운)\n",
      "<eyed3.id3.frames.LyricsFrame object at 0x000001E4983EF3C8>\n",
      "ÇØÄ¿½º¾îÇÐ¿¬±¸¼Ò\n",
      "ÇØÄ¿½ºÅäÀÍ ½ºÅ¸Æ® ¸®½º´×\n",
      "\n",
      "산이(San E) Ep Album\n",
      "EVERYBODY READY?\n",
      "03 Love Sick\n",
      "<eyed3.id3.frames.LyricsFrame object at 0x000001E4983EF128>\n",
      "tag error\n",
      "ÈÖ¼º2Áý\n",
      "None\n",
      "13.¹ÌÀÎ\n",
      "tag error\n",
      "이선희\n",
      "한바탕 웃음으로\n",
      "누나야\n",
      "이선희\n",
      "My Life + Best\n",
      "나의거리\n",
      "tag error\n"
     ]
    }
   ],
   "source": [
    "for n,(i,j) in enumerate(randomList):\n",
    "    mp3 = eyed3.load(i+\"/\"+j)\n",
    "    try:\n",
    "        print(mp3.tag.artist)\n",
    "        print(mp3.tag.album)\n",
    "        print(mp3.tag.title)\n",
    "        for i in mp3.tag.lyrics:\n",
    "            print(i)\n",
    "    except:\n",
    "        print(\"tag error\")"
   ]
  },
  {
   "cell_type": "code",
   "execution_count": null,
   "metadata": {},
   "outputs": [],
   "source": []
  }
 ],
 "metadata": {
  "kernelspec": {
   "display_name": "Python 3",
   "language": "python",
   "name": "python3"
  },
  "language_info": {
   "codemirror_mode": {
    "name": "ipython",
    "version": 3
   },
   "file_extension": ".py",
   "mimetype": "text/x-python",
   "name": "python",
   "nbconvert_exporter": "python",
   "pygments_lexer": "ipython3",
   "version": "3.6.12"
  }
 },
 "nbformat": 4,
 "nbformat_minor": 4
}
