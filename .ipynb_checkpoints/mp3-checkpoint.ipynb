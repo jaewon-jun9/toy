{
 "cells": [
  {
   "cell_type": "code",
   "execution_count": 10,
   "metadata": {},
   "outputs": [
    {
     "name": "stdout",
     "output_type": "stream",
     "text": [
      "04 Moments ''Original Mix -Instrumental-''.mp3\n",
      "06 반딧불.mp3\n",
      "04 appears ''Junior's Appears On The Air''.mp3\n",
      "04 goodbye Mr.Trouble.mp3\n",
      "12 HEAVEN.mp3\n",
      "096,2PM - My Color.mp3\n",
      "03 Time In A Bottle.mp3\n",
      "076. 지아(zia)-난행복해.mp3\n",
      "04 TO BE.mp3\n",
      "서인국 - 애기야 (My Baby U).mp3\n"
     ]
    }
   ],
   "source": [
    "import os\n",
    "import random\n",
    "folder = 'E:/t1/Music'\n",
    "musiclist=[]\n",
    "for (path, dir, files) in os.walk(folder):\n",
    "    for filename in files:\n",
    "        ext = os.path.splitext(filename)[-1]\n",
    "        if ext == '.mp3':\n",
    "            musiclist.append([path,filename])\n",
    "        if ext == '.flac':\n",
    "            musiclist.append([path,filename])\n",
    "        if ext == '.wma':\n",
    "            musiclist.append([path,filename])\n",
    "randomList = random.sample(musiclist, 10)\n",
    "for (i,j) in randomList:\n",
    "    print(j)\n",
    "f=open(\"newplaylist.pls\",'w')\n",
    "f.write(\"[playlist]\\nnumberofentries=\")\n",
    "f.write(str(len(randomList)))\n",
    "f.write(\"\\n\")\n",
    "for n,(i,j) in enumerate(randomList):\n",
    "    f.write(\"File%s=%s/%s\\n\"%(str(n+1),str(i),str(j)))\n",
    "f.close()    "
   ]
  }
 ],
 "metadata": {
  "kernelspec": {
   "display_name": "Python 3",
   "language": "python",
   "name": "python3"
  },
  "language_info": {
   "codemirror_mode": {
    "name": "ipython",
    "version": 3
   },
   "file_extension": ".py",
   "mimetype": "text/x-python",
   "name": "python",
   "nbconvert_exporter": "python",
   "pygments_lexer": "ipython3",
   "version": "3.7.6"
  }
 },
 "nbformat": 4,
 "nbformat_minor": 4
}
