{
 "cells": [
  {
   "cell_type": "code",
   "execution_count": 6,
   "metadata": {},
   "outputs": [],
   "source": []
  },
  {
   "cell_type": "code",
   "execution_count": null,
   "metadata": {},
   "outputs": [],
   "source": [
    "import cv2 \n",
    "import pytesseract\n",
    "from PIL import Image\n",
    "from PIL import ImageGrab\n",
    "import numpy \n",
    "#현재 사용중인 화면 캡쳐하기\n",
    "\n",
    " \n",
    "imgGrab = ImageGrab.grab(bbox=(100, 100, 800, 800))\n",
    " \n",
    "cv_img = cv2.cvtColor(numpy.array(imgGrab), cv2.COLOR_RGB2BGR)\n",
    " \n",
    "cv2.imshow('image',cv_img)\n",
    "cv2.waitKey(0)\n",
    "cv2.destroyAllWindows() \n",
    "\n",
    "blk_size = 9        # 블럭 사이즈\n",
    "C = 5               # 차감 상수 \n",
    "win_name = 'scan'\n",
    "# 이미지 읽기\n",
    "#img = cv2.imread(img)\n",
    "draw = cv_img.copy()\n",
    "\n",
    "# 그레이스 스케일 변환 및 케니 엣지\n",
    "gray = cv2.cvtColor(cv_img, cv2.COLOR_BGR2GRAY)\n",
    "gray = cv2.adaptiveThreshold(gray, 255, cv2.ADAPTIVE_THRESH_GAUSSIAN_C, cv2.THRESH_BINARY, blk_size, C)\n",
    "#gray = cv2.GaussianBlur(gray, (3, 3), 0) # 가우시안 블러로 노이즈 제거\n",
    "#edged = cv2.Canny(gray, 75, 200)    # 케니 엣지로 경계 검출\n",
    "cv2.imshow(win_name, gray)\n",
    "cv2.waitKey(0)\n",
    "cv2.destroyAllWindows()\n",
    "\n",
    "\n",
    "print(pytesseract.image_to_string(gray, lang=\"eng+kor\"))\n",
    "\n",
    "from matplotlib import pyplot as plt\n",
    "def cv2tomat(img):\n",
    "    b, g, r = cv2.split(img)   # img파일을 b,g,r로 분리\n",
    "    img2 = cv2.merge([r,g,b]) # b, r을 바꿔서 Merge\n",
    "    return img2\n",
    "images = {'Original':cv_img,'gray':gray}\n",
    "plt.subplot(2,1,1)\n",
    "plt.title('Original')\n",
    "plt.imshow(cv2tomat(cv_img))\n",
    "plt.subplot(2,1,2)\n",
    "plt.title('gray')\n",
    "plt.imshow(gray,cmap='gray')\n",
    "#plt.rcParams[\"figure.figsize\"] = (30,30)\n",
    "plt.show() "
   ]
  },
  {
   "cell_type": "code",
   "execution_count": null,
   "metadata": {},
   "outputs": [],
   "source": []
  }
 ],
 "metadata": {
  "kernelspec": {
   "display_name": "Python 3",
   "language": "python",
   "name": "python3"
  },
  "language_info": {
   "codemirror_mode": {
    "name": "ipython",
    "version": 3
   },
   "file_extension": ".py",
   "mimetype": "text/x-python",
   "name": "python",
   "nbconvert_exporter": "python",
   "pygments_lexer": "ipython3",
   "version": "3.8.3"
  }
 },
 "nbformat": 4,
 "nbformat_minor": 4
}
