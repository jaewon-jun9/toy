{
 "cells": [
  {
   "cell_type": "code",
   "execution_count": 6,
   "metadata": {},
   "outputs": [
    {
     "ename": "com_error",
     "evalue": "(-2147221021, '작업을 사용할 수 없습니다.', None, None)",
     "output_type": "error",
     "traceback": [
      "\u001b[1;31m---------------------------------------------------------------------------\u001b[0m",
      "\u001b[1;31mcom_error\u001b[0m                                 Traceback (most recent call last)",
      "\u001b[1;32m<ipython-input-6-88838c10ce58>\u001b[0m in \u001b[0;36m<module>\u001b[1;34m\u001b[0m\n\u001b[0;32m      1\u001b[0m \u001b[1;32mfrom\u001b[0m \u001b[0mwin32com\u001b[0m\u001b[1;33m.\u001b[0m\u001b[0mclient\u001b[0m \u001b[1;32mimport\u001b[0m \u001b[0mGetActiveObject\u001b[0m\u001b[1;33m\u001b[0m\u001b[1;33m\u001b[0m\u001b[0m\n\u001b[0;32m      2\u001b[0m \u001b[1;33m\u001b[0m\u001b[0m\n\u001b[1;32m----> 3\u001b[1;33m \u001b[0mapp\u001b[0m \u001b[1;33m=\u001b[0m \u001b[0mGetActiveObject\u001b[0m\u001b[1;33m(\u001b[0m\u001b[1;34m\"Illustrator.Application\"\u001b[0m\u001b[1;33m)\u001b[0m\u001b[1;33m\u001b[0m\u001b[1;33m\u001b[0m\u001b[0m\n\u001b[0m\u001b[0;32m      4\u001b[0m \u001b[0mdocRef\u001b[0m \u001b[1;33m=\u001b[0m \u001b[0mapp\u001b[0m\u001b[1;33m.\u001b[0m\u001b[0mDocuments\u001b[0m\u001b[1;33m.\u001b[0m\u001b[0mAdd\u001b[0m\u001b[1;33m(\u001b[0m\u001b[1;33m)\u001b[0m\u001b[1;33m\u001b[0m\u001b[1;33m\u001b[0m\u001b[0m\n\u001b[0;32m      5\u001b[0m \u001b[0mrectRef\u001b[0m \u001b[1;33m=\u001b[0m \u001b[0mdocRef\u001b[0m\u001b[1;33m.\u001b[0m\u001b[0mPathItems\u001b[0m\u001b[1;33m.\u001b[0m\u001b[0mRectangle\u001b[0m\u001b[1;33m(\u001b[0m\u001b[1;36m700\u001b[0m\u001b[1;33m,\u001b[0m \u001b[1;36m50\u001b[0m\u001b[1;33m,\u001b[0m \u001b[1;36m100\u001b[0m\u001b[1;33m,\u001b[0m \u001b[1;36m100\u001b[0m\u001b[1;33m)\u001b[0m\u001b[1;33m\u001b[0m\u001b[1;33m\u001b[0m\u001b[0m\n",
      "\u001b[1;32m~\\anaconda3\\lib\\site-packages\\win32com\\client\\__init__.py\u001b[0m in \u001b[0;36mGetActiveObject\u001b[1;34m(Class, clsctx)\u001b[0m\n\u001b[0;32m     77\u001b[0m   \"\"\"  \n\u001b[0;32m     78\u001b[0m   \u001b[0mresultCLSID\u001b[0m \u001b[1;33m=\u001b[0m \u001b[0mpywintypes\u001b[0m\u001b[1;33m.\u001b[0m\u001b[0mIID\u001b[0m\u001b[1;33m(\u001b[0m\u001b[0mClass\u001b[0m\u001b[1;33m)\u001b[0m\u001b[1;33m\u001b[0m\u001b[1;33m\u001b[0m\u001b[0m\n\u001b[1;32m---> 79\u001b[1;33m   \u001b[0mdispatch\u001b[0m \u001b[1;33m=\u001b[0m \u001b[0mpythoncom\u001b[0m\u001b[1;33m.\u001b[0m\u001b[0mGetActiveObject\u001b[0m\u001b[1;33m(\u001b[0m\u001b[0mresultCLSID\u001b[0m\u001b[1;33m)\u001b[0m\u001b[1;33m\u001b[0m\u001b[1;33m\u001b[0m\u001b[0m\n\u001b[0m\u001b[0;32m     80\u001b[0m   \u001b[0mdispatch\u001b[0m \u001b[1;33m=\u001b[0m \u001b[0mdispatch\u001b[0m\u001b[1;33m.\u001b[0m\u001b[0mQueryInterface\u001b[0m\u001b[1;33m(\u001b[0m\u001b[0mpythoncom\u001b[0m\u001b[1;33m.\u001b[0m\u001b[0mIID_IDispatch\u001b[0m\u001b[1;33m)\u001b[0m\u001b[1;33m\u001b[0m\u001b[1;33m\u001b[0m\u001b[0m\n\u001b[0;32m     81\u001b[0m   \u001b[1;32mreturn\u001b[0m \u001b[0m__WrapDispatch\u001b[0m\u001b[1;33m(\u001b[0m\u001b[0mdispatch\u001b[0m\u001b[1;33m,\u001b[0m \u001b[0mClass\u001b[0m\u001b[1;33m,\u001b[0m \u001b[0mresultCLSID\u001b[0m \u001b[1;33m=\u001b[0m \u001b[0mresultCLSID\u001b[0m\u001b[1;33m,\u001b[0m \u001b[0mclsctx\u001b[0m \u001b[1;33m=\u001b[0m \u001b[0mclsctx\u001b[0m\u001b[1;33m)\u001b[0m\u001b[1;33m\u001b[0m\u001b[1;33m\u001b[0m\u001b[0m\n",
      "\u001b[1;31mcom_error\u001b[0m: (-2147221021, '작업을 사용할 수 없습니다.', None, None)"
     ]
    }
   ],
   "source": [
    "from win32com.client import GetActiveObject\n",
    "\n",
    "app = GetActiveObject(\"Illustrator.Application\")\n",
    "docRef = app.Documents.Add()\n",
    "rectRef = docRef.PathItems.Rectangle(700, 50, 100, 100)\n",
    "areaTextRef = docRef.TextFrames.AreaText(rectRef)\n",
    "areaTextRef.Contents = \"Hello World!\""
   ]
  },
  {
   "cell_type": "code",
   "execution_count": 5,
   "metadata": {},
   "outputs": [
    {
     "name": "stdout",
     "output_type": "stream",
     "text": [
      "Collecting pypiwin32\n",
      "  Using cached pypiwin32-223-py3-none-any.whl (1.7 kB)\n",
      "Requirement already satisfied: pywin32>=223 in c:\\users\\won-pc30\\anaconda3\\lib\\site-packages (from pypiwin32) (227)\n",
      "Installing collected packages: pypiwin32\n",
      "Successfully installed pypiwin32-223\n"
     ]
    }
   ],
   "source": [
    "!pip install pypiwin32"
   ]
  },
  {
   "cell_type": "code",
   "execution_count": 7,
   "metadata": {},
   "outputs": [
    {
     "name": "stdout",
     "output_type": "stream",
     "text": [
      "Requirement already satisfied: comtypes in c:\\users\\won-pc30\\anaconda3\\lib\\site-packages (1.1.7)\n"
     ]
    }
   ],
   "source": [
    "!pip install comtypes"
   ]
  },
  {
   "cell_type": "markdown",
   "metadata": {},
   "source": [
    "http://jonathansoma.com/lede/data-studio/matplotlib/exporting-from-matplotlib-to-open-in-adobe-illustrator/"
   ]
  }
 ],
 "metadata": {
  "kernelspec": {
   "display_name": "Python 3",
   "language": "python",
   "name": "python3"
  },
  "language_info": {
   "codemirror_mode": {
    "name": "ipython",
    "version": 3
   },
   "file_extension": ".py",
   "mimetype": "text/x-python",
   "name": "python",
   "nbconvert_exporter": "python",
   "pygments_lexer": "ipython3",
   "version": "3.8.3"
  }
 },
 "nbformat": 4,
 "nbformat_minor": 4
}
