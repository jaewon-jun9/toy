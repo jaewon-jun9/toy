{
 "cells": [
  {
   "cell_type": "code",
   "execution_count": 13,
   "metadata": {},
   "outputs": [
    {
     "name": "stdout",
     "output_type": "stream",
     "text": [
      "자우림 5집[All You Need Is Love] - 08. 악몽(惡夢).mp3\n",
      "03 teens ''acoustic version''.mp3\n",
      "윤하 - 기다리다.mp3\n",
      "[이소은3집 - 14 Free].mp3\n",
      "051-비 - Hip Song.mp3\n",
      "koyote - Return.mp3\n",
      "유지나 - 쇼쇼쇼.mp3\n",
      "08 Depend on you ''Original Mix''.mp3\n",
      "키네틱 플로우 - 13  U Know Who (Feat. MC SNIPER).mp3\n",
      "07 AIRWAVE DUB MIX.mp3\n"
     ]
    }
   ],
   "source": [
    "import os\n",
    "import random\n",
    "folder = 'E:/t1/Music'\n",
    "musiclist=[]\n",
    "for (path, dir, files) in os.walk(folder):\n",
    "    for filename in files:\n",
    "        ext = os.path.splitext(filename)[-1]\n",
    "        if ext == '.mp3':\n",
    "            musiclist.append([path,filename])\n",
    "        if ext == '.flac':\n",
    "            musiclist.append([path,filename])\n",
    "        if ext == '.wma':\n",
    "            musiclist.append([path,filename])\n",
    "randomList = random.sample(musiclist, 10)\n",
    "for (i,j) in randomList:\n",
    "    print(j)\n",
    "f=open(\"newplaylist.pls\",'w')\n",
    "f.write(\"[playlist]\\nnumberofentries=%s\\n\"%str(len(randomList)))\n",
    "for n,(i,j) in enumerate(randomList):\n",
    "    f.write(\"File%s=%s/%s\\n\"%(str(n+1),str(i),str(j)))\n",
    "f.close()    "
   ]
  },
  {
   "cell_type": "code",
   "execution_count": null,
   "metadata": {},
   "outputs": [],
   "source": []
  }
 ],
 "metadata": {
  "kernelspec": {
   "display_name": "Python 3",
   "language": "python",
   "name": "python3"
  },
  "language_info": {
   "codemirror_mode": {
    "name": "ipython",
    "version": 3
   },
   "file_extension": ".py",
   "mimetype": "text/x-python",
   "name": "python",
   "nbconvert_exporter": "python",
   "pygments_lexer": "ipython3",
   "version": "3.7.6"
  }
 },
 "nbformat": 4,
 "nbformat_minor": 4
}
