{
 "cells": [
  {
   "cell_type": "code",
   "execution_count": 56,
   "metadata": {},
   "outputs": [
    {
     "name": "stdout",
     "output_type": "stream",
     "text": [
      "09 - La Mer.mp3\n",
      "이선희 - 03 한바탕 웃음으로.mp3\n",
      "06. LiveWire.mp3\n",
      "08 참 이런 날도 오네요.mp3\n",
      "06 Free & Easy ''Minmalistix remix''.mp3\n",
      "체리필터(Cherry Filter)_피아니시모 (Pianissimo)_320.mp3\n",
      "에픽하이 - 우산 (Feat. 윤하).mp3\n",
      "02. 좋은 사람.mp3\n",
      "손호영 - 하늘에 내 마음이.mp3\n",
      "016-브라운아이드걸스 - Magic (FOI 2010 주제곡).mp3\n"
     ]
    }
   ],
   "source": [
    "import os\n",
    "import random\n",
    "import eyed3\n",
    "folder = 'E:/t1/Music'\n",
    "musiclist=[]\n",
    "for (path, dir, files) in os.walk(folder):\n",
    "    for filename in files:\n",
    "        ext = os.path.splitext(filename)[-1]\n",
    "        if ext == '.mp3':\n",
    "            musiclist.append([path,filename])\n",
    "        if ext == '.flac':\n",
    "            musiclist.append([path,filename])\n",
    "        if ext == '.wma':\n",
    "            musiclist.append([path,filename])\n",
    "randomList = random.sample(musiclist, 10)\n",
    "for (i,j) in randomList:\n",
    "    print(j)\n",
    "f=open(\"newplaylist.pls\",'w')\n",
    "f.write(\"[playlist]\\nnumberofentries=%d\\n\"%(len(randomList)))\n",
    "for n,(i,j) in enumerate(randomList):\n",
    "    f.write(\"File%d=%s/%s\\n\"%(n+1,i,j))\n",
    "f.close()    "
   ]
  },
  {
   "cell_type": "code",
   "execution_count": 57,
   "metadata": {},
   "outputs": [
    {
     "name": "stdout",
     "output_type": "stream",
     "text": [
      "09 - La Mer.mp3 \n",
      " James Last\n",
      "Fanfare\n",
      "La Mer\n",
      "tag error\n",
      "이선희 - 03 한바탕 웃음으로.mp3 \n",
      " 이선희\n",
      "한바탕 웃음으로\n",
      "한바탕 웃음으로\n",
      "tag error\n",
      "06. LiveWire.mp3 \n",
      " ¼­ÅÂÁö\n",
      "7Áý - Live Wire\n",
      "LiveWire\n",
      "tag error\n",
      "08 참 이런 날도 오네요.mp3 \n",
      " ÀÌ¼ö¿µ\n",
      "³»·Á³õÀ½\n",
      "Âü ÀÌ·± ³¯µµ ¿À³×¿ä\n",
      "tag error\n",
      "tag error\n",
      "체리필터(Cherry Filter)_피아니시모 (Pianissimo)_320.mp3 \n",
      " Ã¼¸®ÇÊÅÍ(Cherry Filter)\n",
      "Rocksteric\n",
      "ÇÇ¾Æ´Ï½Ã¸ð (Pianissimo)\n",
      "tag error\n",
      "에픽하이 - 우산 (Feat. 윤하).mp3 \n",
      " ¿¡ÇÈÇÏÀÌ\n",
      "Pieces, Part One\n",
      "¿ì»ê (Feat. À±ÇÏ)\n",
      "tag error\n"
     ]
    },
    {
     "name": "stderr",
     "output_type": "stream",
     "text": [
      "Lame tag CRC check failed\n"
     ]
    },
    {
     "name": "stdout",
     "output_type": "stream",
     "text": [
      "02. 좋은 사람.mp3 \n",
      " ¹ÚÈ¿½Å\n",
      "#3 / Time Honored Voice\n",
      "02. ÁÁÀº »ç¶÷\n",
      "tag error\n",
      "손호영 - 하늘에 내 마음이.mp3 \n",
      " ¼ÕÈ£¿µ\n",
      "Sweet Love [Single]\n",
      "ÇÏ´Ã¿¡ ³» ¸¶À½ÀÌ\n",
      "tag error\n",
      "016-브라운아이드걸스 - Magic (FOI 2010 주제곡).mp3 \n",
      " ºê¶ó¿î¾ÆÀÌµå°É½º\n",
      "Festa On Ice 2010 ½ºÆä¼È ¾Ù¹ü\n",
      "Magic (FOI 2010 ÁÖÁ¦°î)\n",
      "tag error\n"
     ]
    }
   ],
   "source": [
    "for n,(i,j) in enumerate(randomList):\n",
    "    mp3 = eyed3.load(i+\"/\"+j)\n",
    "    try:\n",
    "        print(j,'\\n',mp3.tag.artist)\n",
    "        print(mp3.tag.album)\n",
    "        print(mp3.tag.title)\n",
    "        for i in mp3.tag.lyrics.FrameClass.text:\n",
    "            print(i)\n",
    "    except:\n",
    "        print(\"tag error\")"
   ]
  },
  {
   "cell_type": "code",
   "execution_count": 58,
   "metadata": {},
   "outputs": [
    {
     "name": "stdout",
     "output_type": "stream",
     "text": [
      "<property object at 0x000001E496481818>\n"
     ]
    }
   ],
   "source": [
    "print(mp3.tag.lyrics.FrameClass.text.)"
   ]
  },
  {
   "cell_type": "code",
   "execution_count": null,
   "metadata": {},
   "outputs": [],
   "source": []
  }
 ],
 "metadata": {
  "kernelspec": {
   "display_name": "Python 3",
   "language": "python",
   "name": "python3"
  },
  "language_info": {
   "codemirror_mode": {
    "name": "ipython",
    "version": 3
   },
   "file_extension": ".py",
   "mimetype": "text/x-python",
   "name": "python",
   "nbconvert_exporter": "python",
   "pygments_lexer": "ipython3",
   "version": "3.6.12"
  }
 },
 "nbformat": 4,
 "nbformat_minor": 4
}
