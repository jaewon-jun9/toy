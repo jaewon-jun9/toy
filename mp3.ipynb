{
 "cells": [
  {
   "cell_type": "code",
   "execution_count": 5,
   "metadata": {},
   "outputs": [
    {
     "name": "stdout",
     "output_type": "stream",
     "text": [
      "04 And Then.mp3\n",
      "Q.mp3\n",
      "엠투엠(M To M) - 그래 그래.mp3\n",
      "박상민-해바라기.mp3\n",
      "47.part3_기본_2.mp3\n",
      "태양 - I Need a Girl (Feat. G-dragon).mp3\n",
      "02 HUMAN DREAM.mp3\n",
      "089 김윤아 - 도쿄 블루스.mp3\n",
      "VA [2008 최신 트롯트(중연가요)]CD1 - 05 김수희 - 화등.mp3\n",
      "이은미 - 녹턴 (Nocturn).mp3\n",
      "김광석 - [cd2-03] 말하지못하는 내사랑.mp3\n",
      "11 The Devil.mp3\n",
      "이선희 - 01 왜 나만.mp3\n",
      "김 광석 - 외사랑.mp3\n",
      "04 멍하니.mp3\n",
      "09 Norm's Norm.mp3\n",
      "05 immature ''Album Version''.mp3\n",
      "012. 소녀시대(태연) - 들리나요.mp3\n",
      "이선희 - 12 눈이 내리네.mp3\n",
      "요조&에릭WithBrownClassic-Nostalgia.mp3\n",
      "환희 - 내가 더 아플게.mp3\n",
      "09이효리_-_천하무적_이효리.mp3\n",
      "04 POWDER SNOW ''Acoustic Orchestra Version'' from ayu-mi-x.mp3\n",
      "도끼(Dok2) - 비누향기 (feat. Gina).mp3\n",
      "이선희 - 09 Because Of You.mp3\n",
      "43.part2_실전_course3_4.mp3\n",
      "06 No way to say.mp3\n",
      "05 겨울새.mp3\n",
      "013 임재범 - 너를 위해.mp3\n",
      "에스카플로네 - 반지(한국어).mp3\n",
      "[서영은] 휘휘.wma\n",
      "제이(J) - Toast (with Humming Urban Stereo).mp3\n",
      "05 poker face ''D-Z Spiritual Delusion Mix''.mp3\n",
      "가비앤제이(Gavy N.J.) - 핼쑥해졌대.mp3\n",
      "이선희 - 06 그대 곁으로.mp3\n",
      "14 My Angel (Interlude).mp3\n",
      "01-백지영-Lost Star.mp3\n",
      "태연 - 사랑해요 (I Love You).mp3\n",
      "길미 - 미안해 사랑해서... (feat. 케이윌).mp3\n",
      "084. 엠씨 더 맥스 - 눈물은 모르게.mp3\n"
     ]
    }
   ],
   "source": [
    "#mp3 랜덤으로 선곡 후 특정 폴더로 복사+플레이리스트 만들기\n",
    "import shutil\n",
    "import os\n",
    "import random\n",
    "import eyed3\n",
    "folder = 'E:/t1/Music'\n",
    "musiclist=[]\n",
    "for (path, dir, files) in os.walk(folder):\n",
    "    for filename in files:\n",
    "        ext = os.path.splitext(filename)[-1]\n",
    "        if ext == '.mp3':\n",
    "            musiclist.append([path,filename])\n",
    "        if ext == '.flac':\n",
    "            musiclist.append([path,filename])\n",
    "        if ext == '.wma':\n",
    "            musiclist.append([path,filename])\n",
    "randomList = random.sample(musiclist, 40)\n",
    "for (i,j) in randomList:\n",
    "    print(j)\n",
    "f=open(\"newplaylist.pls\",'w')\n",
    "f.write(\"[playlist]\\nnumberofentries=%d\\n\"%(len(randomList)))\n",
    "for n,(i,j) in enumerate(randomList):\n",
    "    shutil.copy(i+'/'+j, 'd:/Users/upnell/Desktop/mp3')\n",
    "    f.write(\"File%d=%s/%s\\n\"%(n+1,i,j))\n",
    "f.close()    "
   ]
  },
  {
   "cell_type": "code",
   "execution_count": 4,
   "metadata": {},
   "outputs": [
    {
     "name": "stdout",
     "output_type": "stream",
     "text": [
      "Collecting eyed3\n",
      "  Using cached eyeD3-0.9.5-py2.py3-none-any.whl (145 kB)\n",
      "Collecting deprecation\n",
      "  Using cached deprecation-2.1.0-py2.py3-none-any.whl (11 kB)\n",
      "Collecting filetype\n",
      "  Using cached filetype-1.0.7-py2.py3-none-any.whl (15 kB)\n",
      "Requirement already satisfied: packaging in d:\\programdata\\anaconda3\\lib\\site-packages (from deprecation->eyed3) (20.1)\n",
      "Requirement already satisfied: pyparsing>=2.0.2 in d:\\programdata\\anaconda3\\lib\\site-packages (from packaging->deprecation->eyed3) (2.4.6)\n",
      "Requirement already satisfied: six in c:\\users\\upnell\\appdata\\roaming\\python\\python37\\site-packages (from packaging->deprecation->eyed3) (1.13.0)\n",
      "Installing collected packages: deprecation, filetype, eyed3\n",
      "Successfully installed deprecation-2.1.0 eyed3-0.9.5 filetype-1.0.7\n"
     ]
    }
   ],
   "source": [
    "!pip install eyed3"
   ]
  },
  {
   "cell_type": "code",
   "execution_count": 60,
   "metadata": {},
   "outputs": [
    {
     "name": "stderr",
     "output_type": "stream",
     "text": [
      "Lame tag CRC check failed\n"
     ]
    },
    {
     "name": "stdout",
     "output_type": "stream",
     "text": [
      "064.Britney Spears- Womanizer.mp3 \n",
      " Britney Spears\n",
      "Womanizer\n",
      "Womanizer\n",
      "tag error\n",
      "tag error\n",
      "tag error\n",
      "거미 - Because Of You.mp3 \n",
      " °Å¹Ì\n",
      "Loveless\n",
      "Because Of You\n",
      "tag error\n",
      "라제폰 오프닝 ヘミソフィア.mp3 \n",
      " ÷øÜâ-×Ó\n",
      "«Ø«ß«½«Õ«£«¢\n",
      "«Ø«ß«½«Õ«£«¢\n",
      "tag error\n",
      "아이유(IU) - 여자라서.mp3 \n",
      " 아이유(IU)\n",
      "로드 넘버원 (MBC 수목드라마) - Part.3\n",
      "여자라서\n",
      "tag error\n",
      "tag error\n"
     ]
    },
    {
     "name": "stderr",
     "output_type": "stream",
     "text": [
      "Lame tag CRC check failed\n",
      "Invalid APIC picture type: 103\n",
      "Lame tag CRC check failed\n",
      "Lame tag CRC check failed\n"
     ]
    },
    {
     "name": "stdout",
     "output_type": "stream",
     "text": [
      "Ain't It Funky Now, Pt 1_James Brown(제임스 브라운)_The 50th Anniversa.mp3 \n",
      " James Brown(제임스 브라운)\n",
      "The 50th Anniversary Collection\n",
      "Ain't It Funky Now, Pt.1\n",
      "tag error\n",
      "현영 - Honey Honey (Remix).mp3 \n",
      " Çö¿µ\n",
      "Honey Honey [Digital Single]\n",
      "Honey Honey (Remix)\n",
      "tag error\n",
      "38_day12_course1.mp3 \n",
      " ÇØÄ¿½º¾îÇÐ¿¬±¸¼Ò\n",
      "ÇØÄ¿½ºÅäÀÍ ½ºÅ¸Æ® ¸®½º´×\n",
      "\n",
      "tag error\n",
      "김광석 - 이야기 둘.mp3 \n",
      " 김광석\n",
      "노래이야기\n",
      "이야기 둘\n",
      "tag error\n",
      "TomatoListening_MP3_41.mp3 \n",
      " Åä¸¶Åä\n",
      "TomatoListening\n",
      "Capsule10_Listening Point\n",
      "tag error\n",
      "tag error\n"
     ]
    },
    {
     "name": "stderr",
     "output_type": "stream",
     "text": [
      "Lame tag CRC check failed\n",
      "Lame tag CRC check failed\n"
     ]
    },
    {
     "name": "stdout",
     "output_type": "stream",
     "text": [
      "01 사랑이 무서워-바비킴.mp3 \n",
      " ¹Ùºñ Å´\n",
      "½ºÆÄÀÌ ¸í¿ù OST Part.1\n",
      "»ç¶ûÀÌ ¹«¼­¿ö\n",
      "tag error\n",
      "키네틱 플로우 - 04  Who Took Ma Crown (Feat. illinit).mp3 \n",
      " None\n",
      "None\n",
      "Å°³×Æ½ ÇÃ·Î¿ì - 04  Who Took Ma Crown (Feat. illinit)\n",
      "tag error\n",
      "홍주현 - 딱 조아.mp3 \n",
      " 홍주현\n",
      "Sound Of Heaven 2\n",
      "딱 조아\n",
      "tag error\n",
      "양파 - 사랑.. 그게 뭔데.mp3 \n",
      " ¾çÆÄ\n",
      "5Áý The Windows Of My Soul\n",
      "»ç¶û.. ±×°Ô ¹ºµ¥\n",
      "tag error\n",
      "tag error\n",
      "4minute - Muzik.mp3 \n",
      " 4minute\n",
      "For Muzik\n",
      "Muzik\n",
      "tag error\n",
      "tag error\n",
      "tag error\n",
      "소녀시대_Chocolate Love (Retro Pop ver.)_320.mp3 \n",
      " ¼Ò³à½Ã´ë\n",
      "Chocolate Love - ¼Ò³à½Ã´ë \n",
      "Chocolate Love (Retro Pop ver.)\n",
      "tag error\n",
      "정엽 - 가시꽃.mp3 \n",
      " 정엽\n",
      "나쁜남자 OST Part.1\n",
      "가시꽃\n",
      "tag error\n",
      "럼블피쉬-그대내게다시.mp3 \n",
      " ·³ºíÇÇ½¬\n",
      "±×´ë ³»°Ô ´Ù½Ã [Digital Single\n",
      "±×´ë ³»°Ô ´Ù½Ã\n",
      "tag error\n"
     ]
    },
    {
     "name": "stderr",
     "output_type": "stream",
     "text": [
      "Lame tag CRC check failed\n",
      "Lame tag CRC check failed\n"
     ]
    },
    {
     "name": "stdout",
     "output_type": "stream",
     "text": [
      "Mandy Moore - I Want To Be With You.mp3 \n",
      " Mandy Moore\n",
      "PromoOnly Mainstream Radio-Apr\n",
      "I Wanna Be With You\n",
      "tag error\n",
      "TomatoListening_MP3_59.mp3 \n",
      " Åä¸¶Åä\n",
      "TomatoListening\n",
      "Capsule14_Power Test\n",
      "tag error\n",
      "조성모_To Heaven (천국으로 보낸 편지)_To Heaven_01.mp3 \n",
      " 조성모\n",
      "To Heaven\n",
      "To Heaven (천국으로 보낸 편지)\n",
      "tag error\n",
      "tag error\n",
      "럼블피쉬-3th 04. 사랑한다..mp3 \n",
      " ·³ºíÇÇ½¬\n",
      "Open The Safe\n",
      "»ç¶ûÇÑ´Ù\n",
      "tag error\n",
      "G-Dragon, T.O.P - High High.mp3 \n",
      " G-Dragon, T.O.P\n",
      "GD&TOP\n",
      "High High\n",
      "tag error\n"
     ]
    },
    {
     "name": "stderr",
     "output_type": "stream",
     "text": [
      "GEOB frame does not contain a mime type\n",
      "GEOB frame does not contain a valid mime type\n",
      "Invalid APIC picture type: 103\n"
     ]
    },
    {
     "name": "stdout",
     "output_type": "stream",
     "text": [
      "시아준수 - Too Love.mp3 \n",
      " 시아준수\n",
      "성균관 스캔들 (KBS 월화드라마)\n",
      "Too Love\n",
      "tag error\n",
      "tag error\n",
      "엠 투 엠 - Perfect Your Love.mp3 \n",
      " 엠 투 엠\n",
      "닥터챔프 OST Part 3\n",
      "Perfect Your Love\n",
      "tag error\n",
      "YB(윤도현 밴드) - 나는 나비.mp3 \n",
      " YB(À±µµÇö ¹êµå)\n",
      "³ª´Â ³ªºñ - YB 15ÁÖ³â ±â³ä Live Best (Live)\n",
      "³ª´Â ³ªºñ\n",
      "tag error\n",
      "tag error\n",
      "125.윤하(Younha／ユンナ) - 편한가봐.mp3 \n",
      " À±ÇÏ(Younha£¯«æ«ó«Ê)\n",
      "3rd Album Part.B-Growing Season\n",
      "ÆíÇÑ°¡ºÁ\n",
      "tag error\n",
      "46_day14_test.mp3 \n",
      " ÇØÄ¿½º¾îÇÐ¿¬±¸¼Ò\n",
      "ÇØÄ¿½ºÅäÀÍ ½ºÅ¸Æ® ¸®½º´×\n",
      "\n",
      "tag error\n",
      "024 다비치-  Shadow.mp3 \n",
      " ´ÙºñÄ¡ (Davichi)\n",
      "Innocence (EP)\n",
      "Shadow\n",
      "tag error\n",
      "디셈버 - 사랑 참....mp3 \n",
      " 디셈버\n",
      "Dear My Lover\n",
      "사랑 참...\n",
      "tag error\n",
      "Gp Basic - Game.mp3 \n",
      " Gp Basic\n",
      "Game\n",
      "Game\n",
      "tag error\n"
     ]
    }
   ],
   "source": [
    "for n,(i,j) in enumerate(randomList):\n",
    "    mp3 = eyed3.load(i+\"/\"+j)\n",
    "    try:\n",
    "        print(j,'\\n',mp3.tag.artist)\n",
    "        print(mp3.tag.album)\n",
    "        print(mp3.tag.title)\n",
    "        for i in mp3.tag.lyrics.FrameClass.text:\n",
    "            print(i)\n",
    "    except:\n",
    "        print(\"tag error\")"
   ]
  },
  {
   "cell_type": "code",
   "execution_count": 58,
   "metadata": {},
   "outputs": [
    {
     "name": "stdout",
     "output_type": "stream",
     "text": [
      "<property object at 0x000001E496481818>\n"
     ]
    }
   ],
   "source": [
    "print(mp3.tag.lyrics.FrameClass.text.)"
   ]
  },
  {
   "cell_type": "code",
   "execution_count": null,
   "metadata": {},
   "outputs": [],
   "source": []
  }
 ],
 "metadata": {
  "kernelspec": {
   "display_name": "Python 3",
   "language": "python",
   "name": "python3"
  },
  "language_info": {
   "codemirror_mode": {
    "name": "ipython",
    "version": 3
   },
   "file_extension": ".py",
   "mimetype": "text/x-python",
   "name": "python",
   "nbconvert_exporter": "python",
   "pygments_lexer": "ipython3",
   "version": "3.7.6"
  }
 },
 "nbformat": 4,
 "nbformat_minor": 4
}
