{
 "cells": [
  {
   "cell_type": "code",
   "execution_count": 8,
   "metadata": {},
   "outputs": [],
   "source": [
    "import cv2\n",
    "import numpy as np\n",
    "def cropscan(img):\n",
    "    win_name = 'scan'\n",
    "    # 이미지 읽기\n",
    "    img = cv2.imread(img)\n",
    "    # cv2.imshow('original', img)\n",
    "    # cv2.waitKey(0)\n",
    "    draw = img.copy()\n",
    "\n",
    "    # 그레이스 스케일 변환 및 케니 엣지\n",
    "    gray = cv2.cvtColor(img, cv2.COLOR_BGR2GRAY)\n",
    "    gray = cv2.GaussianBlur(gray, (3, 3), 0) # 가우시안 블러로 노이즈 제거\n",
    "    edged = cv2.Canny(gray, 75, 200)    # 케니 엣지로 경계 검출\n",
    "    # cv2.imshow(win_name, edged)\n",
    "    # cv2.waitKey(0)\n",
    "\n",
    "    # 컨투어 찾기\n",
    "    (cnts, _) = cv2.findContours(edged.copy(), cv2.RETR_EXTERNAL, \\\n",
    "                                                    cv2.CHAIN_APPROX_SIMPLE)\n",
    "    # 모든 컨투어 그리기\n",
    "    cv2.drawContours(draw, cnts, -1, (0,255,0))\n",
    "    # cv2.imshow(win_name, draw)\n",
    "    # cv2.waitKey(0)\n",
    "\n",
    "    # 컨투어들 중에 영역 크기 순으로 정렬\n",
    "    cnts = sorted(cnts, key = cv2.contourArea, reverse = True)[:5]\n",
    "    for c in cnts:\n",
    "        # 영역이 가장 큰 컨투어 부터 근사 컨투어 단순화\n",
    "        peri = cv2.arcLength(c, True)   # 둘레 길이\n",
    "        # 둘레 길이의 0.02 근사값으로 근사화\n",
    "        vertices = cv2.approxPolyDP(c, 0.02 * peri, True) \n",
    "        if len(vertices) == 4: # 근사한 꼭지점이 4개면 중지\n",
    "            break\n",
    "    pts = vertices.reshape(4, 2) # N x 1 x 2 배열을 4 x 2크기로 조정\n",
    "    for x,y in pts:\n",
    "        cv2.circle(draw, (x,y), 10, (0,255,0), -1) # 좌표에 초록색 동그라미 표시\n",
    "    # cv2.imshow(win_name, draw)\n",
    "    # cv2.waitKey(0)\n",
    "    merged = np.hstack((img, draw))\n",
    "\n",
    "    #### 이하 [예제 5-8]과 동일 ####\n",
    "    # 좌표 4개 중 상하좌우 찾기 ---② \n",
    "    sm = pts.sum(axis=1)                 # 4쌍의 좌표 각각 x+y 계산\n",
    "    diff = np.diff(pts, axis = 1)       # 4쌍의 좌표 각각 x-y 계산\n",
    "\n",
    "    topLeft = pts[np.argmin(sm)]         # x+y가 가장 값이 좌상단 좌표\n",
    "    bottomRight = pts[np.argmax(sm)]     # x+y가 가장 큰 값이 좌상단 좌표\n",
    "    topRight = pts[np.argmin(diff)]     # x-y가 가장 작은 것이 우상단 좌표\n",
    "    bottomLeft = pts[np.argmax(diff)]   # x-y가 가장 큰 값이 좌하단 좌표\n",
    "\n",
    "    # 변환 전 4개 좌표 \n",
    "    pts1 = np.float32([topLeft, topRight, bottomRight , bottomLeft])\n",
    "\n",
    "    # 변환 후 영상에 사용할 서류의 폭과 높이 계산 ---③ \n",
    "    w1 = abs(bottomRight[0] - bottomLeft[0])    # 상단 좌우 좌표간의 거리\n",
    "    w2 = abs(topRight[0] - topLeft[0])          # 하당 좌우 좌표간의 거리\n",
    "    h1 = abs(topRight[1] - bottomRight[1])      # 우측 상하 좌표간의 거리\n",
    "    h2 = abs(topLeft[1] - bottomLeft[1])        # 좌측 상하 좌표간의 거리\n",
    "    width = max([w1, w2])                       # 두 좌우 거리간의 최대값이 서류의 폭\n",
    "    height = max([h1, h2])                      # 두 상하 거리간의 최대값이 서류의 높이\n",
    "\n",
    "    # 변환 후 4개 좌표\n",
    "    pts2 = np.float32([[0,0], [width-1,0], \n",
    "                        [width-1,height-1], [0,height-1]])\n",
    "\n",
    "    # 변환 행렬 계산 \n",
    "    mtrx = cv2.getPerspectiveTransform(pts1, pts2)\n",
    "    # 원근 변환 적용\n",
    "    result = cv2.warpPerspective(img, mtrx, (width, height))\n",
    "#     cv2.imshow(win_name, result)\n",
    "#     cv2.waitKey(0)\n",
    "#     cv2.destroyAllWindows()\n",
    "    return result"
   ]
  },
  {
   "cell_type": "code",
   "execution_count": 13,
   "metadata": {},
   "outputs": [
    {
     "ename": "ValueError",
     "evalue": "cannot reshape array of size 12 into shape (4,2)",
     "output_type": "error",
     "traceback": [
      "\u001b[1;31m---------------------------------------------------------------------------\u001b[0m",
      "\u001b[1;31mValueError\u001b[0m                                Traceback (most recent call last)",
      "\u001b[1;32m<ipython-input-13-c6d66c370cab>\u001b[0m in \u001b[0;36m<module>\u001b[1;34m\u001b[0m\n\u001b[0;32m     10\u001b[0m             \u001b[0mscanlist\u001b[0m\u001b[1;33m.\u001b[0m\u001b[0mappend\u001b[0m\u001b[1;33m(\u001b[0m\u001b[1;33m[\u001b[0m\u001b[0mpath\u001b[0m\u001b[1;33m,\u001b[0m\u001b[0mfilename\u001b[0m\u001b[1;33m]\u001b[0m\u001b[1;33m)\u001b[0m\u001b[1;33m\u001b[0m\u001b[1;33m\u001b[0m\u001b[0m\n\u001b[0;32m     11\u001b[0m \u001b[1;32mfor\u001b[0m \u001b[1;33m(\u001b[0m\u001b[0mi\u001b[0m\u001b[1;33m,\u001b[0m\u001b[0mj\u001b[0m\u001b[1;33m)\u001b[0m \u001b[1;32min\u001b[0m \u001b[0mscanlist\u001b[0m\u001b[1;33m:\u001b[0m\u001b[1;33m\u001b[0m\u001b[1;33m\u001b[0m\u001b[0m\n\u001b[1;32m---> 12\u001b[1;33m     \u001b[0mcv2\u001b[0m\u001b[1;33m.\u001b[0m\u001b[0mimwrite\u001b[0m\u001b[1;33m(\u001b[0m\u001b[0mi\u001b[0m\u001b[1;33m+\u001b[0m\u001b[1;34m\"/\"\u001b[0m\u001b[1;33m+\u001b[0m\u001b[0mj\u001b[0m\u001b[1;33m,\u001b[0m \u001b[0mcropscan\u001b[0m\u001b[1;33m(\u001b[0m\u001b[0mi\u001b[0m\u001b[1;33m+\u001b[0m\u001b[1;34m\"/\"\u001b[0m\u001b[1;33m+\u001b[0m\u001b[0mj\u001b[0m\u001b[1;33m)\u001b[0m\u001b[1;33m)\u001b[0m\u001b[1;33m\u001b[0m\u001b[1;33m\u001b[0m\u001b[0m\n\u001b[0m",
      "\u001b[1;32m<ipython-input-8-af5b53ef81e4>\u001b[0m in \u001b[0;36mcropscan\u001b[1;34m(img)\u001b[0m\n\u001b[0;32m     33\u001b[0m         \u001b[1;32mif\u001b[0m \u001b[0mlen\u001b[0m\u001b[1;33m(\u001b[0m\u001b[0mvertices\u001b[0m\u001b[1;33m)\u001b[0m \u001b[1;33m==\u001b[0m \u001b[1;36m4\u001b[0m\u001b[1;33m:\u001b[0m \u001b[1;31m# 근사한 꼭지점이 4개면 중지\u001b[0m\u001b[1;33m\u001b[0m\u001b[1;33m\u001b[0m\u001b[0m\n\u001b[0;32m     34\u001b[0m             \u001b[1;32mbreak\u001b[0m\u001b[1;33m\u001b[0m\u001b[1;33m\u001b[0m\u001b[0m\n\u001b[1;32m---> 35\u001b[1;33m     \u001b[0mpts\u001b[0m \u001b[1;33m=\u001b[0m \u001b[0mvertices\u001b[0m\u001b[1;33m.\u001b[0m\u001b[0mreshape\u001b[0m\u001b[1;33m(\u001b[0m\u001b[1;36m4\u001b[0m\u001b[1;33m,\u001b[0m \u001b[1;36m2\u001b[0m\u001b[1;33m)\u001b[0m \u001b[1;31m# N x 1 x 2 배열을 4 x 2크기로 조정\u001b[0m\u001b[1;33m\u001b[0m\u001b[1;33m\u001b[0m\u001b[0m\n\u001b[0m\u001b[0;32m     36\u001b[0m     \u001b[1;32mfor\u001b[0m \u001b[0mx\u001b[0m\u001b[1;33m,\u001b[0m\u001b[0my\u001b[0m \u001b[1;32min\u001b[0m \u001b[0mpts\u001b[0m\u001b[1;33m:\u001b[0m\u001b[1;33m\u001b[0m\u001b[1;33m\u001b[0m\u001b[0m\n\u001b[0;32m     37\u001b[0m         \u001b[0mcv2\u001b[0m\u001b[1;33m.\u001b[0m\u001b[0mcircle\u001b[0m\u001b[1;33m(\u001b[0m\u001b[0mdraw\u001b[0m\u001b[1;33m,\u001b[0m \u001b[1;33m(\u001b[0m\u001b[0mx\u001b[0m\u001b[1;33m,\u001b[0m\u001b[0my\u001b[0m\u001b[1;33m)\u001b[0m\u001b[1;33m,\u001b[0m \u001b[1;36m10\u001b[0m\u001b[1;33m,\u001b[0m \u001b[1;33m(\u001b[0m\u001b[1;36m0\u001b[0m\u001b[1;33m,\u001b[0m\u001b[1;36m255\u001b[0m\u001b[1;33m,\u001b[0m\u001b[1;36m0\u001b[0m\u001b[1;33m)\u001b[0m\u001b[1;33m,\u001b[0m \u001b[1;33m-\u001b[0m\u001b[1;36m1\u001b[0m\u001b[1;33m)\u001b[0m \u001b[1;31m# 좌표에 초록색 동그라미 표시\u001b[0m\u001b[1;33m\u001b[0m\u001b[1;33m\u001b[0m\u001b[0m\n",
      "\u001b[1;31mValueError\u001b[0m: cannot reshape array of size 12 into shape (4,2)"
     ]
    }
   ],
   "source": [
    "import os\n",
    "folder = 'F:/code/img/scan'\n",
    "scanlist=[]\n",
    "for (path, dir, files) in os.walk(folder):\n",
    "    for filename in files:\n",
    "        ext = os.path.splitext(filename)[-1]\n",
    "        if ext == '.png':\n",
    "            scanlist.append([path,filename])\n",
    "        if ext == '.jpg':\n",
    "            scanlist.append([path,filename])\n",
    "for (i,j) in scanlist:\n",
    "    cv2.imwrite(i+\"/\"+j, cropscan(i+\"/\"+j))"
   ]
  },
  {
   "cell_type": "code",
   "execution_count": null,
   "metadata": {},
   "outputs": [],
   "source": []
  }
 ],
 "metadata": {
  "kernelspec": {
   "display_name": "Python 3",
   "language": "python",
   "name": "python3"
  },
  "language_info": {
   "codemirror_mode": {
    "name": "ipython",
    "version": 3
   },
   "file_extension": ".py",
   "mimetype": "text/x-python",
   "name": "python",
   "nbconvert_exporter": "python",
   "pygments_lexer": "ipython3",
   "version": "3.7.6"
  }
 },
 "nbformat": 4,
 "nbformat_minor": 4
}
